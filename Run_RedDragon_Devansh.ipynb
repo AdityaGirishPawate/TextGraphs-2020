{
 "cells": [
  {
   "cell_type": "code",
   "execution_count": 1,
   "metadata": {},
   "outputs": [],
   "source": [
    "from pathlib import Path\n",
    "from tqdm import tqdm\n",
    "import pandas as po\n",
    "import numpy as np\n",
    "import warnings\n",
    "import nltk\n",
    "import os\n",
    "import re"
   ]
  },
  {
   "cell_type": "code",
   "execution_count": 2,
   "metadata": {},
   "outputs": [],
   "source": [
    "from paths import get_path_q\n",
    "from rank import get_ranks, get_preds, write_preds, run_scoring\n",
    "from utils import get_df_explanations, get_questions, process_qn"
   ]
  },
  {
   "cell_type": "code",
   "execution_count": 3,
   "metadata": {
    "tags": []
   },
   "outputs": [
    {
     "name": "stderr",
     "output_type": "stream",
     "text": [
      "[nltk_data] Downloading package stopwords to\n",
      "[nltk_data]     /home/devansh/nltk_data...\n",
      "[nltk_data]   Package stopwords is already up-to-date!\n"
     ]
    },
    {
     "data": {
      "text/plain": [
       "True"
      ]
     },
     "execution_count": 3,
     "metadata": {},
     "output_type": "execute_result"
    }
   ],
   "source": [
    "np.random.seed(42)\n",
    "nltk.download(\"stopwords\")"
   ]
  },
  {
   "cell_type": "code",
   "execution_count": 4,
   "metadata": {},
   "outputs": [],
   "source": [
    "SEP = \"#\" * 100 + \"\\n\"\n",
    "MODE_TRAIN = \"train\"\n",
    "MODE_DEV = \"dev\"\n",
    "MODE_TEST = \"test\"\n",
    "use_recursive_tfidf = True\n",
    "bert_output_dir = ''"
   ]
  },
  {
   "cell_type": "code",
   "execution_count": 5,
   "metadata": {},
   "outputs": [],
   "source": [
    "path_data   = Path(\"../data/\")\n",
    "path_tables = path_data.joinpath(\"raw/tables\")"
   ]
  },
  {
   "cell_type": "code",
   "execution_count": 6,
   "metadata": {},
   "outputs": [
    {
     "data": {
      "text/plain": [
       "PosixPath('../data/raw/questions/questions_dev.tsv')"
      ]
     },
     "execution_count": 6,
     "metadata": {},
     "output_type": "execute_result"
    }
   ],
   "source": [
    "path_q = get_path_q(path_data, 'dev')\n",
    "path_q"
   ]
  },
  {
   "cell_type": "code",
   "execution_count": 7,
   "metadata": {
    "tags": []
   },
   "outputs": [
    {
     "name": "stderr",
     "output_type": "stream",
     "text": [
      "\r",
      "  0%|          | 0/9029 [00:00<?, ?it/s]"
     ]
    },
    {
     "name": "stdout",
     "output_type": "stream",
     "text": [
      "Default lemmatizer (41883) concatenated (or not) with extras (162) -> 41883\n"
     ]
    },
    {
     "name": "stderr",
     "output_type": "stream",
     "text": [
      "100%|██████████| 9029/9029 [00:00<00:00, 18221.97it/s]"
     ]
    },
    {
     "name": "stdout",
     "output_type": "stream",
     "text": [
      "Explanation df shape: (9029, 5)\n"
     ]
    },
    {
     "name": "stderr",
     "output_type": "stream",
     "text": [
      "\n"
     ]
    }
   ],
   "source": [
    "with warnings.catch_warnings():\n",
    "    warnings.filterwarnings(\"ignore\", category=UserWarning)\n",
    "    df_exp = get_df_explanations(path_tables, path_data)"
   ]
  },
  {
   "cell_type": "code",
   "execution_count": 8,
   "metadata": {},
   "outputs": [
    {
     "data": {
      "text/plain": [
       "PosixPath('../data/raw/questions/questions_dev.tsv')"
      ]
     },
     "execution_count": 8,
     "metadata": {},
     "output_type": "execute_result"
    }
   ],
   "source": [
    "path_q"
   ]
  },
  {
   "cell_type": "code",
   "execution_count": 9,
   "metadata": {},
   "outputs": [
    {
     "data": {
      "text/html": [
       "<div>\n",
       "<style scoped>\n",
       "    .dataframe tbody tr th:only-of-type {\n",
       "        vertical-align: middle;\n",
       "    }\n",
       "\n",
       "    .dataframe tbody tr th {\n",
       "        vertical-align: top;\n",
       "    }\n",
       "\n",
       "    .dataframe thead th {\n",
       "        text-align: right;\n",
       "    }\n",
       "</style>\n",
       "<table border=\"1\" class=\"dataframe\">\n",
       "  <thead>\n",
       "    <tr style=\"text-align: right;\">\n",
       "      <th></th>\n",
       "      <th>uid</th>\n",
       "      <th>text</th>\n",
       "      <th>tokens</th>\n",
       "      <th>lemmas</th>\n",
       "      <th>embedding</th>\n",
       "    </tr>\n",
       "  </thead>\n",
       "  <tbody>\n",
       "    <tr>\n",
       "      <td>0</td>\n",
       "      <td>461f-00e5-56fe-dd2c</td>\n",
       "      <td>degrees fahrenheit ( F ) is a imperial unit us...</td>\n",
       "      <td>[degree, fahrenheit, (, f, ), be, a, imperial,...</td>\n",
       "      <td>[degree, fahrenheit, (, f, ), imperial, unit, ...</td>\n",
       "      <td>None</td>\n",
       "    </tr>\n",
       "    <tr>\n",
       "      <td>1</td>\n",
       "      <td>93f5-b0bb-73b5-8b40</td>\n",
       "      <td>degrees celsius ( C ) is a metric unit used fo...</td>\n",
       "      <td>[degree, celsius, (, c, ), be, a, metric, unit...</td>\n",
       "      <td>[degree, celsius, (, c, ), metric, unit, use, ...</td>\n",
       "      <td>None</td>\n",
       "    </tr>\n",
       "    <tr>\n",
       "      <td>2</td>\n",
       "      <td>140c-77ad-c6a7-5b26</td>\n",
       "      <td>degrees kelvin ( K ) is an SI unit used for me...</td>\n",
       "      <td>[degree, kelvin, (, k, ), be, a, si, unit, use...</td>\n",
       "      <td>[degree, kelvin, (, k, ), si, unit, use, measu...</td>\n",
       "      <td>None</td>\n",
       "    </tr>\n",
       "    <tr>\n",
       "      <td>3</td>\n",
       "      <td>4aff-d072-35cc-3ebe</td>\n",
       "      <td>liters ( L ) is a metric unit used for measuri...</td>\n",
       "      <td>[liter, (, l, ), be, a, metric, unit, use, for...</td>\n",
       "      <td>[liter, (, l, ), metric, unit, use, measure, v...</td>\n",
       "      <td>None</td>\n",
       "    </tr>\n",
       "    <tr>\n",
       "      <td>4</td>\n",
       "      <td>833d-29e2-dde2-a9fa</td>\n",
       "      <td>milliliters ( mL ) is a metric unit used for m...</td>\n",
       "      <td>[milliliter, (, ml, ), be, a, metric, unit, us...</td>\n",
       "      <td>[milliliter, (, ml, ), metric, unit, use, meas...</td>\n",
       "      <td>None</td>\n",
       "    </tr>\n",
       "    <tr>\n",
       "      <td>...</td>\n",
       "      <td>...</td>\n",
       "      <td>...</td>\n",
       "      <td>...</td>\n",
       "      <td>...</td>\n",
       "      <td>...</td>\n",
       "    </tr>\n",
       "    <tr>\n",
       "      <td>9024</td>\n",
       "      <td>3934-4dac-608b-34d1</td>\n",
       "      <td>rusty metal is sometimes contaminated</td>\n",
       "      <td>[rusty, metal, be, sometimes, contaminate]</td>\n",
       "      <td>[rusty, metal, sometimes, contaminate]</td>\n",
       "      <td>None</td>\n",
       "    </tr>\n",
       "    <tr>\n",
       "      <td>9025</td>\n",
       "      <td>b022-f0ce-9d00-e900</td>\n",
       "      <td>renewable resources are often available for ma...</td>\n",
       "      <td>[renewable, resource, be, often, available, fo...</td>\n",
       "      <td>[renewable, resource, often, available, many, ...</td>\n",
       "      <td>None</td>\n",
       "    </tr>\n",
       "    <tr>\n",
       "      <td>9026</td>\n",
       "      <td>fb44-c786-daa6-dc3b</td>\n",
       "      <td>A celestial body is any identifiable object in...</td>\n",
       "      <td>[a, celestial, body, be, any, identifiable, ob...</td>\n",
       "      <td>[celestial, body, identifiable, object, space]</td>\n",
       "      <td>None</td>\n",
       "    </tr>\n",
       "    <tr>\n",
       "      <td>9027</td>\n",
       "      <td>0777-2c55-d67f-cb5f</td>\n",
       "      <td>coins are usually round</td>\n",
       "      <td>[coin, be, usually, round]</td>\n",
       "      <td>[coin, usually, round]</td>\n",
       "      <td>None</td>\n",
       "    </tr>\n",
       "    <tr>\n",
       "      <td>9028</td>\n",
       "      <td>37ef-5fd6-ee65-4c27</td>\n",
       "      <td>water expanding when it freezes is a physical ...</td>\n",
       "      <td>[water, expand, when, it, freeze, be, a, physi...</td>\n",
       "      <td>[water, expand, freeze, physical, property, wa...</td>\n",
       "      <td>None</td>\n",
       "    </tr>\n",
       "  </tbody>\n",
       "</table>\n",
       "<p>9029 rows × 5 columns</p>\n",
       "</div>"
      ],
      "text/plain": [
       "                      uid                                               text  \\\n",
       "0     461f-00e5-56fe-dd2c  degrees fahrenheit ( F ) is a imperial unit us...   \n",
       "1     93f5-b0bb-73b5-8b40  degrees celsius ( C ) is a metric unit used fo...   \n",
       "2     140c-77ad-c6a7-5b26  degrees kelvin ( K ) is an SI unit used for me...   \n",
       "3     4aff-d072-35cc-3ebe  liters ( L ) is a metric unit used for measuri...   \n",
       "4     833d-29e2-dde2-a9fa  milliliters ( mL ) is a metric unit used for m...   \n",
       "...                   ...                                                ...   \n",
       "9024  3934-4dac-608b-34d1              rusty metal is sometimes contaminated   \n",
       "9025  b022-f0ce-9d00-e900  renewable resources are often available for ma...   \n",
       "9026  fb44-c786-daa6-dc3b  A celestial body is any identifiable object in...   \n",
       "9027  0777-2c55-d67f-cb5f                            coins are usually round   \n",
       "9028  37ef-5fd6-ee65-4c27  water expanding when it freezes is a physical ...   \n",
       "\n",
       "                                                 tokens  \\\n",
       "0     [degree, fahrenheit, (, f, ), be, a, imperial,...   \n",
       "1     [degree, celsius, (, c, ), be, a, metric, unit...   \n",
       "2     [degree, kelvin, (, k, ), be, a, si, unit, use...   \n",
       "3     [liter, (, l, ), be, a, metric, unit, use, for...   \n",
       "4     [milliliter, (, ml, ), be, a, metric, unit, us...   \n",
       "...                                                 ...   \n",
       "9024         [rusty, metal, be, sometimes, contaminate]   \n",
       "9025  [renewable, resource, be, often, available, fo...   \n",
       "9026  [a, celestial, body, be, any, identifiable, ob...   \n",
       "9027                         [coin, be, usually, round]   \n",
       "9028  [water, expand, when, it, freeze, be, a, physi...   \n",
       "\n",
       "                                                 lemmas embedding  \n",
       "0     [degree, fahrenheit, (, f, ), imperial, unit, ...      None  \n",
       "1     [degree, celsius, (, c, ), metric, unit, use, ...      None  \n",
       "2     [degree, kelvin, (, k, ), si, unit, use, measu...      None  \n",
       "3     [liter, (, l, ), metric, unit, use, measure, v...      None  \n",
       "4     [milliliter, (, ml, ), metric, unit, use, meas...      None  \n",
       "...                                                 ...       ...  \n",
       "9024             [rusty, metal, sometimes, contaminate]      None  \n",
       "9025  [renewable, resource, often, available, many, ...      None  \n",
       "9026     [celestial, body, identifiable, object, space]      None  \n",
       "9027                             [coin, usually, round]      None  \n",
       "9028  [water, expand, freeze, physical, property, wa...      None  \n",
       "\n",
       "[9029 rows x 5 columns]"
      ]
     },
     "execution_count": 9,
     "metadata": {},
     "output_type": "execute_result"
    }
   ],
   "source": [
    "df_exp"
   ]
  },
  {
   "cell_type": "code",
   "execution_count": 10,
   "metadata": {},
   "outputs": [],
   "source": [
    "#df_exp.text"
   ]
  },
  {
   "cell_type": "code",
   "execution_count": 11,
   "metadata": {},
   "outputs": [],
   "source": [
    "uid2idx = {uid: idx for idx, uid in enumerate(df_exp.uid.tolist())}"
   ]
  },
  {
   "cell_type": "code",
   "execution_count": 12,
   "metadata": {
    "tags": []
   },
   "outputs": [
    {
     "name": "stderr",
     "output_type": "stream",
     "text": [
      "100%|██████████| 496/496 [00:00<00:00, 9453.58it/s]"
     ]
    },
    {
     "name": "stdout",
     "output_type": "stream",
     "text": [
      "Default lemmatizer (41883) concatenated (or not) with extras (162) -> 41883\n",
      "(496, 23)\n"
     ]
    },
    {
     "name": "stderr",
     "output_type": "stream",
     "text": [
      "\n",
      "/home/devansh/anaconda3/lib/python3.7/site-packages/numpy/core/_asarray.py:83: VisibleDeprecationWarning: Creating an ndarray from ragged nested sequences (which is a list-or-tuple of lists-or-tuples-or ndarrays with different lengths or shapes) is deprecated. If you meant to do this, you must specify 'dtype=object' when creating the ndarray\n",
      "  return array(a, dtype, copy=False, order=order)\n"
     ]
    }
   ],
   "source": [
    "df = get_questions(str(path_q), uid2idx, path_data)"
   ]
  },
  {
   "cell_type": "code",
   "execution_count": 13,
   "metadata": {
    "tags": []
   },
   "outputs": [
    {
     "name": "stdout",
     "output_type": "stream",
     "text": [
      "Num canonical explanations: 9029\n",
      "Num canonical explanations: 9029\n"
     ]
    },
    {
     "name": "stderr",
     "output_type": "stream",
     "text": [
      "100%|██████████| 496/496 [00:33<00:00, 14.73it/s]\n",
      "  0%|          | 0/496 [00:00<?, ?it/s]"
     ]
    },
    {
     "name": "stdout",
     "output_type": "stream",
     "text": [
      "Num canonical explanations: 9029\n"
     ]
    },
    {
     "name": "stderr",
     "output_type": "stream",
     "text": [
      "100%|██████████| 496/496 [00:00<00:00, 25350.33it/s]\n"
     ]
    }
   ],
   "source": [
    "ranks = get_ranks(df, df_exp, use_embed=False, use_recursive_tfidf=True)"
   ]
  },
  {
   "cell_type": "code",
   "execution_count": 14,
   "metadata": {},
   "outputs": [],
   "source": [
    "#k = 100"
   ]
  },
  {
   "cell_type": "code",
   "execution_count": 15,
   "metadata": {},
   "outputs": [
    {
     "data": {
      "text/plain": [
       "\"\\nflag = 0 #if change in question\\nprev = '' #prev question\\nl = []\\nj = 0      #number of explanations taken\\nfor i in preds:\\n    ques = i.split('\\t')[0]\\n    expl = i.split('\\t')[1]\\n    if(prev != ques):\\n        l.append(i)\\n        j = 1\\n        prev=ques\\n    else:\\n        if(j<k):\\n            l.append(i)\\n        j = j+1\\n    \""
      ]
     },
     "execution_count": 15,
     "metadata": {},
     "output_type": "execute_result"
    }
   ],
   "source": [
    "'''\n",
    "flag = 0 #if change in question\n",
    "prev = '' #prev question\n",
    "l = []\n",
    "j = 0      #number of explanations taken\n",
    "for i in preds:\n",
    "    ques = i.split('\\t')[0]\n",
    "    expl = i.split('\\t')[1]\n",
    "    if(prev != ques):\n",
    "        l.append(i)\n",
    "        j = 1\n",
    "        prev=ques\n",
    "    else:\n",
    "        if(j<k):\n",
    "            l.append(i)\n",
    "        j = j+1\n",
    "    '''"
   ]
  },
  {
   "cell_type": "code",
   "execution_count": 16,
   "metadata": {},
   "outputs": [],
   "source": [
    "#len(d['MDSA_2009_5_16'])"
   ]
  },
  {
   "cell_type": "code",
   "execution_count": 17,
   "metadata": {},
   "outputs": [
    {
     "data": {
      "text/plain": [
       "\"d={}\\nfor i in l:\\n    ques = i.split('\\t')[0]\\n    expl = i.split('\\t')[1]\\n    if(ques in d.keys()):\\n        d[ques].append(expl)\\n    else:\\n        d[ques] = [expl]\\n        \""
      ]
     },
     "execution_count": 17,
     "metadata": {},
     "output_type": "execute_result"
    }
   ],
   "source": [
    "'''d={}\n",
    "for i in l:\n",
    "    ques = i.split('\\t')[0]\n",
    "    expl = i.split('\\t')[1]\n",
    "    if(ques in d.keys()):\n",
    "        d[ques].append(expl)\n",
    "    else:\n",
    "        d[ques] = [expl]\n",
    "        '''"
   ]
  },
  {
   "cell_type": "code",
   "execution_count": 18,
   "metadata": {},
   "outputs": [],
   "source": [
    "#k = 100 #number of explanations to take for each question"
   ]
  },
  {
   "cell_type": "code",
   "execution_count": 19,
   "metadata": {},
   "outputs": [],
   "source": [
    "def clip_preds(preds, k=100):\n",
    "    flag = 0 #if change in question\n",
    "    prev = '' #prev question\n",
    "    l = []\n",
    "    j = 0      #number of explanations taken\n",
    "    for i in preds:\n",
    "        ques = i.split('\\t')[0]\n",
    "        expl = i.split('\\t')[1]\n",
    "        if(prev != ques):\n",
    "            l.append(i)\n",
    "            j = 1\n",
    "            prev=ques\n",
    "        else:\n",
    "            if(j<k):\n",
    "                l.append(i)\n",
    "            j = j+1\n",
    "    return l"
   ]
  },
  {
   "cell_type": "code",
   "execution_count": 20,
   "metadata": {},
   "outputs": [],
   "source": [
    "preds = get_preds(ranks, df, df_exp)"
   ]
  },
  {
   "cell_type": "code",
   "execution_count": 21,
   "metadata": {},
   "outputs": [],
   "source": [
    "preds = clip_preds(preds)"
   ]
  },
  {
   "cell_type": "code",
   "execution_count": 22,
   "metadata": {
    "tags": [
     "outputPrepend"
    ]
   },
   "outputs": [],
   "source": [
    "# To run on train set\n",
    "#mode = MODE_TRAIN\n",
    "#process_qn(path_data, path_q, df_exp, df, use_recursive_tfidf, bert_output_dir, uid2idx, ranks, preds, mode)"
   ]
  },
  {
   "cell_type": "code",
   "execution_count": 23,
   "metadata": {
    "tags": [
     "outputPrepend"
    ]
   },
   "outputs": [
    {
     "name": "stdout",
     "output_type": "stream",
     "text": [
      "####################################################################################################\n",
      " Processsing dev data set\n",
      "Mode: dev, predict file will be saved to: predict_dev.txt\n",
      "####################################################################################################\n",
      " BERT output dir not provided, running TFIDF-only methods\n",
      "####################################################################################################\n",
      " Ranking\n",
      "####################################################################################################\n",
      " Writing predictions file\n",
      "(31744, 3)\n",
      "####################################################################################################\n",
      " Preparing rerank data\n",
      "Saving rerank data to: df_scores_dev.csv\n",
      "####################################################################################################\n",
      " Scoring\n",
      "         role     MAP     total  count  occurences\n",
      "0  BACKGROUND  0.0288   14.2795    496          58\n",
      "1     CENTRAL  0.4509  223.6290    496        1225\n",
      "2   GROUNDING  0.1434   71.1463    496         817\n",
      "3     LEXGLUE  0.0572   28.3723    496         624\n",
      "4         NEG  0.0031    1.5500    496          23\n",
      "5        ROLE  0.0125    6.1890    496          54\n",
      "qid2score: {'mdsa_2009_5_16': 0.0, 'mercury_sc_415491': 0.5285714285714286, 'mercury_sc_408040': 1.0, 'nysedregents_2014_4_2': 1.0, 'mercury_sc_400655': 0.0, 'mdsa_2011_5_6': 0.3269230769230769, 'mercury_7011270': 0.41782531194295897, 'mercury_7137463': 0.5141348121740278, 'mercury_189770': 0.3666666666666667, 'mercury_177818': 0.0, 'mcas_2004_9_16': 0.0, 'mercury_7176085': 0.0, 'mercury_7173513': 0.21459732755507402, 'mercury_7033653': 0.0, 'mercury_7123480': 0.0, 'mercury_7084560': 0.0, 'csz20680': 0.0, 'mercury_7008138': 0.0, 'mercury_7122553': 0.5499999999999999, 'mercury_7122798': 0.6857142857142857, 'mercury_sc_400612': 0.0, 'mercury_sc_400194': 0.35988349885408705, 'mercury_sc_402101': 0.7109090909090909, 'wasl_2004_8_16': 0.0, 'mcas_2012_8_23647': 0.0, 'mcas_2005_8_5': 0.9333333333333332, 'mercury_7267785': 0.0, 'mercury_7215408': 0.3775879917184265, 'mea_2013_5_3': 0.0, 'mercury_7171553': 0.3750128008192524, 'mercury_7084508': 0.38286713286713286, 'mercury_7114083': 0.5833333333333333, 'mercury_7223038': 0.5555555555555555, 'mercury_7008120': 1.0, 'mercury_7269028': 0.5814862176754759, 'leap_2004_8_10397': 0.0, 'meap_2005_8_43': 0.0, 'mcas_2004_8_28': 0.0, 'mercury_sc_400989': 0.3616534566772338, 'mercury_7210735': 0.0, 'mercury_sc_406029': 0.9666666666666666, 'mercury_180443': 1.0, 'mercury_7171938': 0.7794011544011544, 'mercury_sc_403016': 1.0, 'mercury_sc_401367': 0.0, 'mercury_7164658': 0.0, 'mercury_7122448': 0.31141067538126355, 'mercury_7032830': 0.0, 'mercury_7245140': 0.0, 'mercury_sc_402287': 0.3686868686868687, 'mercury_7007893': 0.625, 'nceoga_2013_8_46': 1.0, 'mercury_sc_415397': 0.2975183389616057, 'akde&ed_2012_8_53': 0.6398809523809523, 'mercury_sc_lbs10789': 0.0, 'mdsa_2010_4_24': 0.37315462315462317, 'leap_2011_8_10435': 0.8088235294117647, 'timss_2007_4_pg110': 0.244047619047619, 'mercury_sc_405215': 0.0, 'mercury_sc_402280': 0.0, 'mercury_7085190': 0.12337164750957853, 'mercury_sc_401244': 0.0, 'leap__5_10316': 1.0, 'mercury_sc_401245': 0.0, 'mercury_7068565': 1.0, 'actaap_2009_5_5': 0.8333333333333333, 'mercury_7080553': 1.0, 'mercury_7207253': 0.4035714285714285, 'mercury_7268818': 0.4187723785166241, 'naep_2000_4_s21+2': 0.0, 'vasol_2009_5_25': 0.4121447028423772, 'mercury_7013668': 0.5663398692810457, 'mercury_180128': 0.0, 'actaap_2011_5_10': 0.0, 'mcas_2012_5_23632': 0.6031746031746031, 'mercury_7223073': 1.0, 'mercury_sc_400061': 0.0, 'mercury_sc_400515': 0.0, 'mercury_7008400': 0.0, 'mercury_7233783': 0.0, 'nysedregents_2014_8_25': 0.6666666666666666, 'leap__7_10350': 0.0, 'mercury_7029873': 0.41195286195286196, 'mercury_7193078': 0.2013157894736842, 'mercury_7090598': 0.6066433566433566, 'mercury_7086013': 0.2812354312354312, 'mercury_7270008': 0.7833333333333332, 'mcas_1998_8_13': 1.0, 'mercury_178728': 0.7, 'timss_2007_8_pg96': 0.41666666666666663, 'mercury_7090720': 0.4640310669722434, 'mercury_7269238': 1.0, 'mercury_7269220': 0.0, 'mercury_7100608': 0.4678819444444444, 'mdsa_2008_5_39': 0.821111111111111, 'mercury_sc_401340': 1.0, 'mercury_7187215': 0.0, 'mercury_7044100': 1.0, 'mercury_7201705': 0.95, 'mercury_7027230': 0.4543894787644788, 'mdsa_2008_5_24': 0.0, 'mercury_sc_402278': 0.0, 'mercury_184765': 0.0, 'mercury_7190155': 0.0, 'timss_2011_4_pg90': 0.4053030303030303, 'mercury_7218750': 0.6101037851037852, 'mdsa_2010_5_18': 0.0, 'aims_2009_4_29': 0.0, 'vasol_2009_5_10': 0.0, 'mcas_2010_8_12010': 0.0, 'mercury_sc_401663': 0.0, 'mercury_sc_402239': 0.0, 'mercury_7115063': 0.6123316498316499, 'mercury_7115395': 0.4035409035409036, 'mercury_sc_410965': 0.0, 'timss_2003_8_pg96': 0.0, 'mdsa_2011_4_8': 0.0, 'timss_2011_8_pg139': 0.0, 'mercury_sc_402104': 0.0, 'mercury_7037433': 0.0, 'mercury_7033705': 0.0, 'mdsa_2007_5_39': 0.0, 'mcas_2005_5_21': 0.95, 'mercury_7234185': 0.5714285714285714, 'vasol_2007_5_26': 1.0, 'mercury_sc_lbs10612': 0.8095238095238094, 'msa_2013_8_3': 1.0, 'mcas_2009_8_4': 0.5955555555555555, 'mercury_sc_415396': 0.5875, 'nysedregents_2014_8_23': 1.0, 'mercury_7271583': 0.5074074074074074, 'meap_2005_5_1': 0.7033730158730158, 'mercury_7213080': 1.0, 'mercury_7056753': 0.625, 'mercury_7159268': 0.8214923964923965, 'mercury_7271618': 0.5787037037037037, 'vasol_2008_5_28': 0.9166666666666666, 'mercury_7254520': 0.7253968253968253, 'mercury_7114013': 0.0, 'vasol_2009_5_14': 0.6416256157635467, 'mercury_7141400': 0.0, 'mercury_7192990': 0.9666666666666666, 'mercury_sc_401652': 0.36204819277108435, 'mercury_7235760': 0.7066666666666667, 'nceoga_2013_5_48': 0.0, 'csz_2007_5_csz10148': 0.0, 'nysedregents_2014_8_24': 0.4309523809523809, 'nysedregents_2014_8_39': 0.0, 'mercury_sc_413544': 0.0, 'actaap_2007_7_19': 0.7051282051282052, 'mcas_2012_8_23641': 0.0, 'nceoga_2013_5_43': 0.0, 'mcas_2005_5_27': 0.0, 'mcas_2005_8_35': 1.0, 'mercury_7004165': 1.0, 'mcas_2011_5_17662': 0.0, 'mercury_7210403': 0.0, 'mercury_7014368': 0.0, 'mercury_184258': 0.0, 'aims_2008_4_17': 0.0, 'mercury_sc_400037': 0.0, 'actaap_2011_5_3': 0.0, 'mercury_189018': 1.0, 'mercury_7008435': 0.4839080459770115, 'mercury_sc_410870': 0.0, 'mcas_2013_5_29401': 0.0, 'mercury_7143150': 0.5955555555555555, 'mercury_7183225': 0.0, 'mercury_7139685': 0.7275, 'mercury_7103565': 0.0, 'mercury_7175700': 0.0, 'mercury_7103338': 0.40057720057720053, 'mercury_sc_lbs10170': 0.9166666666666666, 'mercury_sc_400175': 0.8055555555555555, 'mercury_sc_415418': 0.0, 'nceoga_2013_5_45': 0.0, 'vasol_2007_3_33': 0.0, 'mercury_sc_405302': 0.0, 'nysedregents_2014_8_27': 0.0, 'leap_2009_8_10431': 1.0, 'mercury_7099768': 0.0, 'mercury_sc_lbs10785': 0.5197323373793962, 'nysedregents_2014_8_21': 1.0, 'mdsa_2010_8_1': 0.0, 'mercury_7213553': 0.39978956228956225, 'mercury_7069528': 1.0, 'mercury_7245928': 0.0, 'mercury_7246995': 0.0, 'mercury_400813': 0.0, 'mercury_7187058': 0.0, 'timss_2007_4_pg35': 0.5338235294117647, 'vasol_2011_5_19': 0.41520467836257313, 'mercury_sc_401188': 0.7380952380952381, 'mercury_7187915': 0.37373575498575495, 'mcas_2013_5_29396': 0.0, 'mercury_sc_400862': 0.6655773420479303, 'vasol_2011_5_3': 0.23284719666298614, 'mercury_7026863': 1.0, 'nysedregents_2014_4_14': 0.0, 'mercury_7212520': 0.4082972582972583, 'mercury_7205450': 0.34027777777777773, 'mercury_7014455': 0.46708683473389356, 'mercury_sc_401592': 1.0, 'mercury_7082093': 0.0, 'mercury_sc_400049': 0.725, 'mercury_188773': 0.5912087912087911, 'actaap_2011_5_7': 0.0, 'mcas_2006_9_31-v1': 1.0, 'mercury_190138': 0.5833333333333333, 'mercury_411424': 0.0, 'mercury_sc_400185': 0.0, 'mercury_7006790': 0.3088040614356404, 'mercury_7018515': 0.0, 'mercury_7018445': 0.0, 'mercury_sc_408700': 0.0, 'ohat_2011_5_20': 0.0, 'nysedregents_2014_8_40': 0.3948914181057038, 'mercury_7186148': 0.0, 'mercury_sc_415735': 0.0, 'mea_2010_8_14-v1': 0.0, 'mercury_sc_lbs10920': 0.0, 'timss_1995_8_j5': 0.6547070441079657, 'mercury_7044783': 1.0, 'mercury_7032550': 0.0, 'mercury_7120890': 0.34672619047619047, 'mercury_7006213': 0.0, 'mercury_sc_415696': 0.0, 'mercury_sc_lbs10783': 0.0, 'nysedregents_2014_4_10': 0.0, 'mercury_sc_405721': 0.0, 'naep_2009_8_s10+1': 0.0, 'leap_2001_4_10239': 0.0, 'mercury_sc_409390': 0.0, 'mercury_sc_415772': 0.20893719806763286, 'nysedregents_2014_8_42': 0.7, 'timss_2003_4_pg85': 1.0, 'mercury_sc_406155': 0.5267039920599458, 'actaap_2010_7_15': 0.4952380952380952, 'mcas_2004_8_24': 1.0, 'mcas_2003_5_26': 0.7329365079365079, 'mcas_2004_9_13': 0.6936936936936937, 'mcas_2006_9_9-v1': 0.1952719797596458, 'mdsa_2010_8_17': 0.15644300144300144, 'mercury_sc_415764': 0.537037037037037, 'nysedregents_2014_8_41': 0.0, 'timss_2007_4_pg26': 0.42063492063492064, 'mercury_sc_407784': 1.0, 'mcas_2013_5_17': 0.6761574074074074, 'akde&ed_2008_8_44': 0.0, 'timss_1995_8_i11': 0.8259259259259258, 'akde&ed_2012_8_43': 0.0, 'mcas_2013_8_29415': 1.0, 'mcas_2016_5_7': 0.28452449018486753, 'mercury_sc_400004': 0.8227272727272726, 'nysedregents_2014_8_18': 0.0, 'nysedregents_2014_4_18': 0.0, 'mercury_sc_407720': 0.0, 'nysedregents_2014_4_24': 0.7640051834130781, 'mercury_sc_400054': 0.0, 'mdsa_2011_5_20': 0.0, 'mercury_sc_400206': 0.0, 'nysedregents_2014_4_27': 0.0, 'mcas_2002_5_12': 0.0, 'nysedregents_2014_4_22': 0.6159522444583421, 'mercury_sc_400391': 0.0, 'mercury_sc_400058': 0.0, 'mercury_sc_414364': 0.0, 'mercury_sc_401294': 0.0, 'mercury_sc_405973': 0.09684684684684684, 'mcas_2006_9_33': 0.0, 'mercury_sc_407169': 0.0, 'mdsa_2010_4_7': 0.0, 'timss_2003_4_pg29': 0.7380952380952381, 'mcas_2013_8_29421': 0.0, 'nysedregents_2014_4_25': 0.0, 'mercury_sc_416126': 0.6256613756613756, 'actaap_2010_7_11': 0.4388888888888889, 'timss_2003_8_pg98': 0.0, 'naep_2005_8_s11+14': 1.0, 'nysedregents_2014_8_5': 0.0, 'mercury_sc_401146': 0.8333333333333333, 'timss_2011_8_pg121': 0.5605345911949685, 'nysedregents_2014_8_7': 0.0, 'actaap_2014_7_6': 0.391859243697479, 'nceoga_2013_5_15': 1.0, 'mea_2010_8_12': 0.0, 'nysedregents_2014_8_6': 0.5657665505226481, 'mercury_sc_416172': 1.0, 'wasl_2005_5_11': 1.0, 'mercury_sc_416156': 0.22619047619047616, 'nysedregents_2014_8_19': 1.0, 'timss_2003_8_pg29': 0.9888888888888889, 'mercury_sc_411306': 0.0, 'actaap_2013_5_16': 0.8333333333333334, 'mdsa_2012_8_23': 0.0, 'nysedregents_2014_8_11': 1.0, 'actaap_2011_5_12': 0.0, 'nysedregents_2014_8_4': 0.3333333333333333, 'mcas_1998_8_2': 0.6944444444444445, 'mcas_2013_8_29432': 0.0, 'timss_2007_8_pg105': 0.625, 'actaap_2012_7_16': 0.7083333333333334, 'mcas_2005_8_30': 1.0, 'nceoga_2013_5_51': 0.0, 'mercury_sc_416526': 0.0, 'mercury_sc_405442': 0.19873015873015873, 'mercury_sc_lbs10040': 0.0, 'mercury_sc_401178': 0.0, 'mercury_sc_407574': 0.0, 'actaap_2011_5_2': 0.2784382284382284, 'mercury_sc_402253': 0.0, 'mcas_2011_8_17695': 0.11562500000000002, 'mcas_2003_8_13': 0.16555111555111557, 'mercury_sc_415425': 0.0, 'mercury_sc_416137': 0.0, 'nysedregents_2014_8_12': 0.8095238095238094, 'mcas_1999_4_3': 0.0, 'ohat_2008_5_13': 0.0, 'mercury_sc_400370': 0.28591767970401694, 'mercury_sc_405526': 0.0, 'mercury_sc_405952': 0.7222222222222222, 'nysedregents_2014_8_2': 0.548051948051948, 'nysedregents_2014_4_20': 0.8928571428571428, 'mercury_sc_lbs10472': 0.5294117647058824, 'mercury_sc_413454': 0.0, 'mercury_sc_407391': 0.0, 'mercury_sc_415026': 0.0, 'mercury_sc_416133': 0.0, 'nysedregents_2014_8_10': 0.0, 'mercury_sc_408374': 0.0, 'mcas_2006_9_35': 0.9666666666666666, 'nceoga_2013_8_40': 0.0, 'mercury_sc_416516': 1.0, 'mercury_sc_413081': 0.0, 'timss_2007_4_pg81': 1.0, 'mercury_sc_400924': 0.5568058431101908, 'leap_2011_8_10436': 0.0, 'vasol_2007_3_32': 0.9047619047619048, 'mercury_sc_408859': 0.5224323370013024, 'mcas_2002_8_2': 0.0, 'ohat_2007_5_24': 0.0, 'csz_2008_5_csz50776': 0.0, 'mcas_2000_8_30': 0.0, 'mdsa_2007_4_52': 1.0, 'mercury_sc_lbs10666': 0.0, 'timss_2011_4_pg72': 0.0, 'mercury_sc_405487': 0.0, 'nysedregents_2014_4_28': 0.0, 'leap_2012_8_10441': 0.0, 'mercury_sc_415366': 0.0, 'mercury_sc_400002': 0.0, 'nysedregents_2014_8_3': 0.0, 'akde&ed_2008_4_22': 0.0, 'mcas_2006_9_16': 0.53125, 'mercury_sc_417580': 0.0, 'mercury_sc_415354': 1.0, 'mea_2014_5_4': 0.6666666666666666, 'mcas_2003_5_31': 0.0, 'mercury_sc_401598': 0.2906042128603104, 'mercury_400397': 0.0, 'mercury_7032743': 0.12536780159730979, 'nceoga_2013_8_38': 0.0, 'nysedregents_2014_8_9': 1.0, 'mercury_7239645': 0.0, 'mercury_7228515': 0.0, 'aims_2008_8_8': 0.3007998056747971, 'aims_2008_8_9': 0.0, 'mercury_7189035': 0.0, 'mercury_408809': 0.0, 'mercury_sc_415348': 0.0, 'nysedregents_2014_4_17': 0.0, 'mcas_2003_5_35': 0.0, 'mercury_406772': 0.24512987012987017, 'mcas_2014_8_17': 0.5454545454545454, 'timss_2003_8_pg14': 0.3957098439105571, 'msa_2015_8_26': 0.0, 'mercury_sc_406939': 0.373015873015873, 'leap_2006_8_10412': 0.0, 'ohat_2011_8_3': 0.65, 'timss_2003_8_pg31': 0.7009370816599733, 'timss_2011_8_pg63': 0.7, 'mercury_7168753': 0.075, 'mercury_7133858': 0.0, 'mercury_403682': 0.5566233766233767, 'mercury_7205345': 0.3057040629621275, 'mercury_7223475': 0.8333333333333333, 'vasol_2010_3_5': 0.8666666666666667, 'mcas_2000_8_6': 1.0, 'mercury_7133648': 0.0, 'mercury_7221865': 0.0, 'mercury_7018200': 0.6555555555555556, 'mercury_7008803': 1.0, 'mercury_7108413': 0.47644815501958365, 'mercury_7025165': 0.4294117647058823, 'mercury_7041948': 0.7, 'mercury_7032568': 1.0, 'mercury_7083965': 0.5172413793103449, 'mercury_7011025': 0.4444444444444444, 'mercury_7003955': 0.4358058608058608, 'mercury_7007665': 1.0, 'mercury_7018008': 0.5, 'mercury_7007630': 1.0, 'mercury_7003710': 0.5338235294117647, 'mercury_7205135': 0.0, 'mercury_7029698': 1.0, 'mercury_177380': 0.836923076923077, 'nysedregents_2014_8_20': 0.0, 'nceoga_2013_8_4': 0.0, 'mcas_2016_8_3': 0.0, 'mercury_7082740': 0.22017045454545456, 'mercury_7032708': 0.7291666666666666, 'timss_2007_8_pg52': 0.3549074454956808, 'mercury_414131': 0.5833333333333334, 'mercury_7264023': 0.6964285714285714, 'mercury_7026198': 0.45278460278460275, 'mercury_7220500': 0.0, 'mercury_7213448': 0.46031746031746024, 'mercury_401035': 1.0, 'mercury_7083948': 1.0, 'mercury_7013090': 0.0, 'mercury_7017080': 0.0, 'mercury_400934': 0.0, 'mercury_7018148': 1.0, 'mercury_7221883': 1.0, 'mercury_7086205': 0.6243734335839598, 'mcas_2009_8_18': 0.36011275546159266, 'mcas_2015_8_7': 0.0, 'timss_2011_4_pg76': 1.0, 'mcas_2013_8_29420': 0.0, 'mcas_1998_4_25': 0.0, 'mea_2010_8_11': 0.0, 'mercury_7213378': 1.0, 'mercury_7085820': 0.0, 'mea_2016_5_6': 0.0, 'mercury_7082688': 0.0, 'mercury_sc_405304': 0.0, 'nysedregents_2014_4_9': 0.0, 'mercury_7007963': 0.0, 'mercury_7016783': 0.0, 'mercury_sc_400047': 0.0, 'mercury_sc_400201': 0.3561986301369863, 'mercury_7098193': 0.0, 'nysedregents_2014_8_22': 0.0496031746031746, 'mercury_7205380': 0.0, 'vasol_2011_5_14': 0.0, 'mercury_sc_400840': 0.0, 'mercury_7038098': 0.0, 'mercury_sc_lbs10689': 0.5021636859872154, 'mcas_1999_8_35': 1.0, 'akde&ed_2008_4_12': 0.0, 'mercury_sc_408452': 0.9166666666666666, 'mercury_sc_400303': 0.8509090909090908, 'mercury_7043593': 0.7097222222222223, 'vasol_2010_5_39': 0.95, 'mercury_7221533': 0.0, 'mercury_sc_407569': 0.0, 'mercury_sc_408287': 0.699969078540507, 'mercury_sc_400179': 1.0, 'mercury_sc_400178': 0.8833333333333334, 'mercury_sc_415541': 0.0, 'akde&ed_2012_8_18': 0.4993145743145743, 'mercury_7064663': 0.0, 'nysedregents_2014_4_11': 0.35185185185185186, 'mercury_sc_400150': 0.0, 'vasol_2008_3_26': 0.0, 'mdsa_2010_4_13': 0.48271221532091096, 'mercury_7034930': 0.0, 'mercury_sc_401256': 0.5071212121212121, 'mdsa_2011_4_36': 0.0, 'actaap_2010_5_10': 0.44771241830065356, 'meap_2005_8_34': 0.0, 'mercury_sc_lbs10598': 0.0, 'mcas_8_2015_11': 0.5317460317460317, 'mercury_176015': 0.8492997198879552, 'nysedregents_2014_4_8': 0.0, 'nysedregents_2014_4_4': 0.2692982456140351, 'mercury_sc_401158': 0.5166666666666667, 'nysedregents_2014_8_38': 0.7083333333333334, 'mercury_sc_409254': 0.0, 'mcas_2002_8_19': 1.0, 'mcas_2009_8_5': 1.0, 'mercury_sc_400171': 0.44665262172284637, 'mercury_sc_401111': 0.0, 'mercury_sc_400050': 0.4010335917312661, 'mercury_sc_401286': 0.0, 'mcas_2003_8_25': 1.0, 'mcas_2011_8_17687': 1.0, 'mcas_1999_8_22': 1.0, 'mcas_1998_4_8': 0.0, 'mercury_sc_401208': 0.0, 'mercury_sc_400589': 1.0, 'mercury_sc_412337': 0.0, 'akde&ed_2012_8_31': 1.0, 'timss_2007_4_pg90': 0.0, 'mercury_sc_405887': 1.0, 'nysedregents_2014_8_8': 1.0}\n",
      "MAP:  0.3500189767865568\n"
     ]
    }
   ],
   "source": [
    "# To run on dev set\n",
    "mode = MODE_DEV\n",
    "process_qn(path_data, path_q, df_exp, df, use_recursive_tfidf, bert_output_dir, uid2idx, ranks, preds, mode)"
   ]
  },
  {
   "cell_type": "code",
   "execution_count": 24,
   "metadata": {
    "tags": []
   },
   "outputs": [],
   "source": [
    "#To run on dev set\n",
    "#mode = MODE_TEST\n",
    "#process_qn(path_data, path_q, df_exp, df, use_recursive_tfidf, bert_output_dir, uid2idx, ranks, preds, mode)"
   ]
  },
  {
   "cell_type": "code",
   "execution_count": null,
   "metadata": {},
   "outputs": [],
   "source": []
  }
 ],
 "metadata": {
  "kernelspec": {
   "display_name": "Python 3",
   "language": "python",
   "name": "python3"
  },
  "language_info": {
   "codemirror_mode": {
    "name": "ipython",
    "version": 3
   },
   "file_extension": ".py",
   "mimetype": "text/x-python",
   "name": "python",
   "nbconvert_exporter": "python",
   "pygments_lexer": "ipython3",
   "version": "3.7.4"
  }
 },
 "nbformat": 4,
 "nbformat_minor": 2
}
